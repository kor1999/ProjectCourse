{
  "nbformat": 4,
  "nbformat_minor": 0,
  "metadata": {
    "colab": {
      "name": "Project Muhammad Fahim",
      "provenance": [],
      "collapsed_sections": [],
      "authorship_tag": "ABX9TyMsxCw8a2ht3oZFSDTOxfyy",
      "include_colab_link": true
    },
    "kernelspec": {
      "name": "python3",
      "display_name": "Python 3"
    }
  },
  "cells": [
    {
      "cell_type": "markdown",
      "metadata": {
        "id": "view-in-github",
        "colab_type": "text"
      },
      "source": [
        "<a href=\"https://colab.research.google.com/github/kor1999/Project_course/blob/master/Project_Muhammad_Fahim.ipynb\" target=\"_parent\"><img src=\"https://colab.research.google.com/assets/colab-badge.svg\" alt=\"Open In Colab\"/></a>"
      ]
    },
    {
      "cell_type": "code",
      "metadata": {
        "id": "pp37Qgba5TQo",
        "colab_type": "code",
        "colab": {}
      },
      "source": [
        "import torch\n",
        "import torchvision\n",
        "import torchvision.transforms as transforms\n",
        "import matplotlib.pyplot as plt\n",
        "import numpy as np"
      ],
      "execution_count": 0,
      "outputs": []
    },
    {
      "cell_type": "code",
      "metadata": {
        "id": "FTyxlXo96foA",
        "colab_type": "code",
        "outputId": "8d96fc4f-6178-42f6-eb79-2aaf5ec32d3c",
        "colab": {
          "base_uri": "https://localhost:8080/",
          "height": 51
        }
      },
      "source": [
        "transform = transforms.Compose(\n",
        "    [transforms.ToTensor(),\n",
        "     transforms.Normalize((0.5, 0.5, 0.5), (0.5, 0.5, 0.5))])\n",
        "\n",
        "trainset = torchvision.datasets.CIFAR10(root='./data', train=True,\n",
        "                                        download=True, transform=transform)\n",
        "trainloader = torch.utils.data.DataLoader(trainset, batch_size=4,\n",
        "                                          shuffle=True, num_workers=2)\n",
        "testset = torchvision.datasets.CIFAR10(root='./data', train=False,\n",
        "                                       download=True, transform=transform)\n",
        "testloader = torch.utils.data.DataLoader(testset, batch_size=4,\n",
        "                                         shuffle=False, num_workers=2)\n",
        "\n",
        "classes = ('plane', 'car', 'bird', 'cat',\n",
        "           'deer', 'dog', 'frog', 'horse', 'ship', 'truck')\n"
      ],
      "execution_count": 10,
      "outputs": [
        {
          "output_type": "stream",
          "text": [
            "Files already downloaded and verified\n",
            "Files already downloaded and verified\n"
          ],
          "name": "stdout"
        }
      ]
    },
    {
      "cell_type": "code",
      "metadata": {
        "id": "PrepZ-e564HT",
        "colab_type": "code",
        "outputId": "a63eed17-68e8-41d8-af1d-7ae3b46d7360",
        "colab": {
          "base_uri": "https://localhost:8080/",
          "height": 155
        }
      },
      "source": [
        "def imshow(img):\n",
        "    img = img / 2 + 0.5     # unnormalize\n",
        "    npimg = img.numpy()\n",
        "    plt.imshow(np.transpose(npimg, (1, 2, 0)))\n",
        "    plt.show()\n",
        "\n",
        "\n",
        "# get some random training images\n",
        "dataiter = iter(trainloader)\n",
        "images, labels = dataiter.next()\n",
        "# show images\n",
        "imshow(torchvision.utils.make_grid(images))\n",
        "# print labels\n",
        "print(' '.join('%5s' % classes[labels[j]] for j in range(4)))"
      ],
      "execution_count": 11,
      "outputs": [
        {
          "output_type": "display_data",
          "data": {
            "image/png": "[encoded data removed]",
            "text/plain": [
              "<Figure size 432x288 with 1 Axes>"
            ]
          },
          "metadata": {
            "tags": []
          }
        },
        {
          "output_type": "stream",
          "text": [
            " frog  deer   dog  bird\n"
          ],
          "name": "stdout"
        }
      ]
    },
    {
      "cell_type": "code",
      "metadata": {
        "id": "ZyvUKHpOXobO",
        "colab_type": "code",
        "colab": {}
      },
      "source": [
        "import torch.nn as nn\n",
        "import torch.nn.functional as F\n",
        "\n",
        "\n",
        "class Net(nn.Module):\n",
        "    def __init__(self):\n",
        "        super(Net, self).__init__()\n",
        "        self.conv1 = nn.Conv2d(in_channels = 3, out_channels = 6,kernel_size = 5)\n",
        "        self.pool = nn.MaxPool2d(2, 2)\n",
        "        self.conv2 = nn.Conv2d(in_channels = 6, out_channels = 16,kernel_size = 5)\n",
        "        self.conv2_drop = nn.Dropout2d()\n",
        "\n",
        "        self.fc1 = nn.Linear(16 * 5 * 5, 120)\n",
        "        self.fc2 = nn.Linear(120, 84)\n",
        "        self.fc3 = nn.Linear(84, 10)\n",
        "\n",
        "    def forward(self, x):\n",
        "\n",
        "        x = self.pool(F.relu(self.conv1(x)))\n",
        "        x = self.pool(F.relu(self.conv2(x)))\n",
        "        x = x.view(-1, 16 * 5 * 5)\n",
        "        x = F.relu(self.fc1(x))\n",
        "        x = F.relu(self.fc2(x))\n",
        "        x = F.dropout(x, training=self.training)\n",
        "        x = self.fc3(x)\n",
        "        return x\n",
        "\n",
        "\n",
        "net = Net()"
      ],
      "execution_count": 0,
      "outputs": []
    },
    {
      "cell_type": "code",
      "metadata": {
        "id": "de90hWOMXvGE",
        "colab_type": "code",
        "colab": {}
      },
      "source": [
        "import torch.optim as optim\n",
        "import torch.nn.functional as F\n",
        "\n",
        "criterion = nn.CrossEntropyLoss()\n",
        "optimizer = optim.SGD(net.parameters(), lr=0.001, momentum=0.9)"
      ],
      "execution_count": 0,
      "outputs": []
    },
    {
      "cell_type": "code",
      "metadata": {
        "id": "u17rt7woXyKj",
        "colab_type": "code",
        "outputId": "7d9a5b22-9bbd-4322-b9c6-3895aac818d2",
        "colab": {
          "base_uri": "https://localhost:8080/",
          "height": 1000
        }
      },
      "source": [
        "import time\n",
        "start_time = time.time()\n",
        "for epoch in range(20):  # loop over the dataset multiple times\n",
        "\n",
        "    running_loss = 0.0\n",
        "    for i, data in enumerate(trainloader, 0):\n",
        "        # get the inputs; data is a list of [inputs, labels]\n",
        "        inputs, labels = data\n",
        "\n",
        "        # zero the parameter gradients\n",
        "        optimizer.zero_grad()\n",
        "\n",
        "        # forward + backward + optimize\n",
        "        outputs = net(inputs)\n",
        "        loss = criterion(outputs, labels)\n",
        "        loss.backward()\n",
        "        optimizer.step()\n",
        "\n",
        "        # print statistics\n",
        "        running_loss += loss.item()\n",
        "        if i % 2000 == 1999:    # print every 2000 mini-batches\n",
        "            print('[%d, %5d]' %\n",
        "                  (epoch + 1, i + 1))\n",
        "            running_loss = 0.0\n",
        "\n",
        "print('Finished Training')\n",
        "print('Time' + str(start_time - time.time()))"
      ],
      "execution_count": 14,
      "outputs": [
        {
          "output_type": "stream",
          "text": [
            "[1,  2000]\n",
            "[1,  4000]\n",
            "[1,  6000]\n",
            "[1,  8000]\n",
            "[1, 10000]\n",
            "[1, 12000]\n",
            "[2,  2000]\n",
            "[2,  4000]\n",
            "[2,  6000]\n",
            "[2,  8000]\n",
            "[2, 10000]\n",
            "[2, 12000]\n",
            "[3,  2000]\n",
            "[3,  4000]\n",
            "[3,  6000]\n",
            "[3,  8000]\n",
            "[3, 10000]\n",
            "[3, 12000]\n",
            "[4,  2000]\n",
            "[4,  4000]\n",
            "[4,  6000]\n",
            "[4,  8000]\n",
            "[4, 10000]\n",
            "[4, 12000]\n",
            "[5,  2000]\n",
            "[5,  4000]\n",
            "[5,  6000]\n",
            "[5,  8000]\n",
            "[5, 10000]\n",
            "[5, 12000]\n",
            "[6,  2000]\n",
            "[6,  4000]\n",
            "[6,  6000]\n",
            "[6,  8000]\n",
            "[6, 10000]\n",
            "[6, 12000]\n",
            "[7,  2000]\n",
            "[7,  4000]\n",
            "[7,  6000]\n",
            "[7,  8000]\n",
            "[7, 10000]\n",
            "[7, 12000]\n",
            "[8,  2000]\n",
            "[8,  4000]\n",
            "[8,  6000]\n",
            "[8,  8000]\n",
            "[8, 10000]\n",
            "[8, 12000]\n",
            "[9,  2000]\n",
            "[9,  4000]\n",
            "[9,  6000]\n",
            "[9,  8000]\n",
            "[9, 10000]\n",
            "[9, 12000]\n",
            "[10,  2000]\n",
            "[10,  4000]\n",
            "[10,  6000]\n",
            "[10,  8000]\n",
            "[10, 10000]\n",
            "[10, 12000]\n",
            "[11,  2000]\n",
            "[11,  4000]\n",
            "[11,  6000]\n",
            "[11,  8000]\n",
            "[11, 10000]\n",
            "[11, 12000]\n",
            "[12,  2000]\n",
            "[12,  4000]\n",
            "[12,  6000]\n",
            "[12,  8000]\n",
            "[12, 10000]\n",
            "[12, 12000]\n",
            "[13,  2000]\n",
            "[13,  4000]\n",
            "[13,  6000]\n",
            "[13,  8000]\n",
            "[13, 10000]\n",
            "[13, 12000]\n",
            "[14,  2000]\n",
            "[14,  4000]\n",
            "[14,  6000]\n",
            "[14,  8000]\n",
            "[14, 10000]\n",
            "[14, 12000]\n",
            "[15,  2000]\n",
            "[15,  4000]\n",
            "[15,  6000]\n",
            "[15,  8000]\n",
            "[15, 10000]\n",
            "[15, 12000]\n",
            "[16,  2000]\n",
            "[16,  4000]\n",
            "[16,  6000]\n",
            "[16,  8000]\n",
            "[16, 10000]\n",
            "[16, 12000]\n",
            "[17,  2000]\n",
            "[17,  4000]\n",
            "[17,  6000]\n",
            "[17,  8000]\n",
            "[17, 10000]\n",
            "[17, 12000]\n",
            "[18,  2000]\n",
            "[18,  4000]\n",
            "[18,  6000]\n",
            "[18,  8000]\n",
            "[18, 10000]\n",
            "[18, 12000]\n",
            "[19,  2000]\n",
            "[19,  4000]\n",
            "[19,  6000]\n",
            "[19,  8000]\n",
            "[19, 10000]\n",
            "[19, 12000]\n",
            "[20,  2000]\n",
            "[20,  4000]\n",
            "[20,  6000]\n",
            "[20,  8000]\n",
            "[20, 10000]\n",
            "[20, 12000]\n",
            "Finished Training\n",
            "Time-1382.8773663043976\n"
          ],
          "name": "stdout"
        }
      ]
    },
    {
      "cell_type": "code",
      "metadata": {
        "id": "FmVOPO8gYJNJ",
        "colab_type": "code",
        "outputId": "5958cd13-1587-4f99-8dcf-5f4635a912c2",
        "colab": {
          "base_uri": "https://localhost:8080/",
          "height": 34
        }
      },
      "source": [
        "dataiter = iter(trainloader)\n",
        "images, labels = dataiter.next()\n",
        "\n",
        "correct = 0\n",
        "total = 0\n",
        "with torch.no_grad():\n",
        "    for data in trainloader:\n",
        "        images, labels = data\n",
        "        outputs = net(images)\n",
        "        _, predicted = torch.max(outputs.data, 1)\n",
        "        total += labels.size(0)\n",
        "        correct += (predicted == labels).sum().item()\n",
        "\n",
        "print('Accuracy of the network on the 10000 test images: %d %%' % (\n",
        "    100 * correct / total))"
      ],
      "execution_count": 15,
      "outputs": [
        {
          "output_type": "stream",
          "text": [
            "Accuracy of the network on the 10000 test images: 72 %\n"
          ],
          "name": "stdout"
        }
      ]
    }
  ]
}